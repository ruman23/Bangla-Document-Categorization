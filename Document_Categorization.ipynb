{
 "cells": [
  {
   "cell_type": "markdown",
   "metadata": {},
   "source": [
    "# Load Data"
   ]
  },
  {
   "cell_type": "code",
   "execution_count": 2,
   "metadata": {
    "scrolled": true
   },
   "outputs": [
    {
     "data": {
      "text/html": [
       "<div>\n",
       "<style scoped>\n",
       "    .dataframe tbody tr th:only-of-type {\n",
       "        vertical-align: middle;\n",
       "    }\n",
       "\n",
       "    .dataframe tbody tr th {\n",
       "        vertical-align: top;\n",
       "    }\n",
       "\n",
       "    .dataframe thead th {\n",
       "        text-align: right;\n",
       "    }\n",
       "</style>\n",
       "<table border=\"1\" class=\"dataframe\">\n",
       "  <thead>\n",
       "    <tr style=\"text-align: right;\">\n",
       "      <th></th>\n",
       "      <th>category</th>\n",
       "      <th>news</th>\n",
       "    </tr>\n",
       "  </thead>\n",
       "  <tbody>\n",
       "    <tr>\n",
       "      <th>0</th>\n",
       "      <td>accident</td>\n",
       "      <td>['নওগাঁর মহাদেবপুর উপজেলার নওগাঁ-রাজশাহী মহাসড...</td>\n",
       "    </tr>\n",
       "    <tr>\n",
       "      <th>1</th>\n",
       "      <td>accident</td>\n",
       "      <td>['মংলা বন্দরের শিল্পাঞ্চল এলাকায় নির্মাণাধীন ...</td>\n",
       "    </tr>\n",
       "    <tr>\n",
       "      <th>2</th>\n",
       "      <td>accident</td>\n",
       "      <td>['মংলা বন্দরের শিল্পাঞ্চল এলাকায় নির্মাণাধীন ...</td>\n",
       "    </tr>\n",
       "    <tr>\n",
       "      <th>3</th>\n",
       "      <td>accident</td>\n",
       "      <td>['ঢাকা-ময়মনসিংহ রেললাইনের গাজীপুরের শ্রীপুর উ...</td>\n",
       "    </tr>\n",
       "    <tr>\n",
       "      <th>4</th>\n",
       "      <td>accident</td>\n",
       "      <td>['রাজধানীর পুরানা পল্টন থানা এলাকায় গতকাল বৃহ...</td>\n",
       "    </tr>\n",
       "  </tbody>\n",
       "</table>\n",
       "</div>"
      ],
      "text/plain": [
       "   category                                               news\n",
       "0  accident  ['নওগাঁর মহাদেবপুর উপজেলার নওগাঁ-রাজশাহী মহাসড...\n",
       "1  accident  ['মংলা বন্দরের শিল্পাঞ্চল এলাকায় নির্মাণাধীন ...\n",
       "2  accident  ['মংলা বন্দরের শিল্পাঞ্চল এলাকায় নির্মাণাধীন ...\n",
       "3  accident  ['ঢাকা-ময়মনসিংহ রেললাইনের গাজীপুরের শ্রীপুর উ...\n",
       "4  accident  ['রাজধানীর পুরানা পল্টন থানা এলাকায় গতকাল বৃহ..."
      ]
     },
     "execution_count": 2,
     "metadata": {},
     "output_type": "execute_result"
    }
   ],
   "source": [
    "import pandas as pd\n",
    "\n",
    "df = pd.read_csv('Document_Categorization.csv')\n",
    "df.head()"
   ]
  },
  {
   "cell_type": "markdown",
   "metadata": {},
   "source": [
    "# Assing id to each news category. "
   ]
  },
  {
   "cell_type": "code",
   "execution_count": 3,
   "metadata": {},
   "outputs": [
    {
     "data": {
      "text/html": [
       "<div>\n",
       "<style scoped>\n",
       "    .dataframe tbody tr th:only-of-type {\n",
       "        vertical-align: middle;\n",
       "    }\n",
       "\n",
       "    .dataframe tbody tr th {\n",
       "        vertical-align: top;\n",
       "    }\n",
       "\n",
       "    .dataframe thead th {\n",
       "        text-align: right;\n",
       "    }\n",
       "</style>\n",
       "<table border=\"1\" class=\"dataframe\">\n",
       "  <thead>\n",
       "    <tr style=\"text-align: right;\">\n",
       "      <th></th>\n",
       "      <th>category</th>\n",
       "      <th>news</th>\n",
       "      <th>category_id</th>\n",
       "    </tr>\n",
       "  </thead>\n",
       "  <tbody>\n",
       "    <tr>\n",
       "      <th>0</th>\n",
       "      <td>accident</td>\n",
       "      <td>['নওগাঁর মহাদেবপুর উপজেলার নওগাঁ-রাজশাহী মহাসড...</td>\n",
       "      <td>0</td>\n",
       "    </tr>\n",
       "    <tr>\n",
       "      <th>1</th>\n",
       "      <td>accident</td>\n",
       "      <td>['মংলা বন্দরের শিল্পাঞ্চল এলাকায় নির্মাণাধীন ...</td>\n",
       "      <td>0</td>\n",
       "    </tr>\n",
       "    <tr>\n",
       "      <th>2</th>\n",
       "      <td>accident</td>\n",
       "      <td>['মংলা বন্দরের শিল্পাঞ্চল এলাকায় নির্মাণাধীন ...</td>\n",
       "      <td>0</td>\n",
       "    </tr>\n",
       "    <tr>\n",
       "      <th>3</th>\n",
       "      <td>accident</td>\n",
       "      <td>['ঢাকা-ময়মনসিংহ রেললাইনের গাজীপুরের শ্রীপুর উ...</td>\n",
       "      <td>0</td>\n",
       "    </tr>\n",
       "    <tr>\n",
       "      <th>4</th>\n",
       "      <td>accident</td>\n",
       "      <td>['রাজধানীর পুরানা পল্টন থানা এলাকায় গতকাল বৃহ...</td>\n",
       "      <td>0</td>\n",
       "    </tr>\n",
       "  </tbody>\n",
       "</table>\n",
       "</div>"
      ],
      "text/plain": [
       "   category                                               news  category_id\n",
       "0  accident  ['নওগাঁর মহাদেবপুর উপজেলার নওগাঁ-রাজশাহী মহাসড...            0\n",
       "1  accident  ['মংলা বন্দরের শিল্পাঞ্চল এলাকায় নির্মাণাধীন ...            0\n",
       "2  accident  ['মংলা বন্দরের শিল্পাঞ্চল এলাকায় নির্মাণাধীন ...            0\n",
       "3  accident  ['ঢাকা-ময়মনসিংহ রেললাইনের গাজীপুরের শ্রীপুর উ...            0\n",
       "4  accident  ['রাজধানীর পুরানা পল্টন থানা এলাকায় গতকাল বৃহ...            0"
      ]
     },
     "execution_count": 3,
     "metadata": {},
     "output_type": "execute_result"
    }
   ],
   "source": [
    "from io import StringIO\n",
    "\n",
    "col = ['category', 'news']\n",
    "df = df[col]\n",
    "df = df[pd.notnull(df['news'])]\n",
    "df.columns = ['category', 'news']\n",
    "df['category_id'] = df['category'].factorize()[0]\n",
    "category_id_df = df[['category', 'category_id']].drop_duplicates().sort_values('category_id')\n",
    "category_to_id = dict(category_id_df.values)\n",
    "id_to_category = dict(category_id_df[['category_id', 'category']].values)\n",
    "df.head()"
   ]
  },
  {
   "cell_type": "markdown",
   "metadata": {},
   "source": [
    "# Print Total number of news and total number of news for each category"
   ]
  },
  {
   "cell_type": "code",
   "execution_count": 4,
   "metadata": {},
   "outputs": [
    {
     "name": "stdout",
     "output_type": "stream",
     "text": [
      "Total News 5988\n",
      "------------------------------\n",
      "category\n",
      "accident         499\n",
      "art              499\n",
      "crime            499\n",
      "economics        499\n",
      "education        499\n",
      "entertainment    499\n",
      "environment      499\n",
      "international    499\n",
      "opinion          499\n",
      "politics         499\n",
      "science_tech     499\n",
      "sports           499\n",
      "Name: news, dtype: int64\n"
     ]
    }
   ],
   "source": [
    "print('Total News', df.shape[0])\n",
    "print('------------------------------')\n",
    "\n",
    "print(df.groupby('category').news.count())"
   ]
  },
  {
   "cell_type": "markdown",
   "metadata": {},
   "source": [
    "# Show total number of news for each category in graph"
   ]
  },
  {
   "cell_type": "code",
   "execution_count": 5,
   "metadata": {
    "scrolled": true
   },
   "outputs": [
    {
     "data": {
      "image/png": "[encoded data removed]",
      "text/plain": [
       "<Figure size 576x432 with 1 Axes>"
      ]
     },
     "metadata": {
      "needs_background": "light"
     },
     "output_type": "display_data"
    }
   ],
   "source": [
    "import matplotlib.pyplot as plt\n",
    "\n",
    "fig = plt.figure(figsize=(8,6))\n",
    "df.groupby('category').news.count().plot.bar(ylim=0)\n",
    "plt.show()"
   ]
  },
  {
   "cell_type": "markdown",
   "metadata": {},
   "source": [
    "# Calculate the tfidf using TfidfVectorizer"
   ]
  },
  {
   "cell_type": "code",
   "execution_count": 6,
   "metadata": {
    "scrolled": true
   },
   "outputs": [
    {
     "name": "stdout",
     "output_type": "stream",
     "text": [
      "(5988, 44442)\n"
     ]
    }
   ],
   "source": [
    "from sklearn.feature_extraction.text import TfidfVectorizer\n",
    "from sklearn.feature_selection import chi2\n",
    "import numpy as np\n",
    "\n",
    "tfidf = TfidfVectorizer(sublinear_tf=True, min_df=5, norm='l2', encoding='latin-1', ngram_range=(1, 2), stop_words='english')\n",
    "features = tfidf.fit_transform(df.news).toarray()\n",
    "labels = df.category_id\n",
    "print(features.shape)"
   ]
  },
  {
   "cell_type": "markdown",
   "metadata": {},
   "source": [
    "# Check the unigrams and bigrams"
   ]
  },
  {
   "cell_type": "code",
   "execution_count": 7,
   "metadata": {},
   "outputs": [
    {
     "name": "stdout",
     "output_type": "stream",
     "text": [
      "# 'accident':\n",
      "  . Most correlated unigrams:\n",
      ". থল\n",
      ". আহত\n",
      "  . Most correlated bigrams:\n",
      ". ঘটন ঘট\n",
      ". ঘটন থল\n",
      "# 'art':\n",
      "  . Most correlated unigrams:\n",
      ". ছদ\n",
      ". উপন\n",
      "  . Most correlated bigrams:\n",
      ". রক শন\n",
      ". রচ ছদ\n",
      "# 'crime':\n",
      "  . Most correlated unigrams:\n",
      ". উপজ\n",
      ". ওস\n",
      "  . Most correlated bigrams:\n",
      ". উদ কর\n",
      ". আটক কর\n",
      "# 'economics':\n",
      "  . Most correlated unigrams:\n",
      ". ঋণ\n",
      ". ঞপ\n",
      "  . Most correlated bigrams:\n",
      ". যবস পন\n",
      ". পন পর\n",
      "# 'education':\n",
      "  . Most correlated unigrams:\n",
      ". iii\n",
      ". ii\n",
      "  . Most correlated bigrams:\n",
      ". বহ চন\n",
      ". রশ তর\n",
      "# 'entertainment':\n",
      "  . Most correlated unigrams:\n",
      ". ছব\n",
      ". চলচ\n",
      "  . Most correlated bigrams:\n",
      ". পর শন\n",
      ". অভ নয\n",
      "# 'environment':\n",
      "  . Most correlated unigrams:\n",
      ". পম\n",
      ". আবহ\n",
      "  . Most correlated bigrams:\n",
      ". দপ তর\n",
      ". অধ দপ\n",
      "# 'international':\n",
      "  . Most correlated unigrams:\n",
      ". এএফপ\n",
      ". আইএস\n",
      "  . Most correlated bigrams:\n",
      ". খবর এএফপ\n",
      ". খবর হয\n",
      "# 'opinion':\n",
      "  . Most correlated unigrams:\n",
      ". জনগণ\n",
      ". নয়\n",
      "  . Most correlated bigrams:\n",
      ". বব লয়\n",
      ". রয় জন\n",
      "# 'politics':\n",
      "  . Most correlated unigrams:\n",
      ". আওয\n",
      ". এনপ\n",
      "  . Most correlated bigrams:\n",
      ". এনপ রপ\n",
      ". রপ রসন\n",
      "# 'science_tech':\n",
      "  . Most correlated unigrams:\n",
      ". সফটওয\n",
      ". টফ\n",
      "  . Most correlated bigrams:\n",
      ". কম উট\n",
      ". যবহ রক\n",
      "# 'sports':\n",
      "  . Most correlated unigrams:\n",
      ". টসম\n",
      ". উইক\n",
      "  . Most correlated bigrams:\n",
      ". দক আফ\n",
      ". ওয নড\n"
     ]
    }
   ],
   "source": [
    "N = 2\n",
    "for newCategory, category_id in sorted(category_to_id.items()):\n",
    "    features_chi2 = chi2(features, labels == category_id)\n",
    "    indices = np.argsort(features_chi2[0])\n",
    "    feature_names = np.array(tfidf.get_feature_names())[indices]\n",
    "    unigrams = [v for v in feature_names if len(v.split(' ')) == 1]\n",
    "    bigrams = [v for v in feature_names if len(v.split(' ')) == 2]\n",
    "    print(\"# '{}':\".format(newCategory))\n",
    "    print(\"  . Most correlated unigrams:\\n. {}\".format('\\n. '.join(unigrams[-N:])))\n",
    "    print(\"  . Most correlated bigrams:\\n. {}\".format('\\n. '.join(bigrams[-N:])))"
   ]
  },
  {
   "cell_type": "markdown",
   "metadata": {},
   "source": [
    "# Import library for spliting trainig and testing data. Calulating the accuracy"
   ]
  },
  {
   "cell_type": "code",
   "execution_count": 8,
   "metadata": {},
   "outputs": [],
   "source": [
    "from sklearn.model_selection import train_test_split\n",
    "from sklearn.metrics import confusion_matrix, accuracy_score"
   ]
  },
  {
   "cell_type": "markdown",
   "metadata": {},
   "source": [
    "# Split training and testing data"
   ]
  },
  {
   "cell_type": "code",
   "execution_count": 9,
   "metadata": {},
   "outputs": [],
   "source": [
    "X_train, X_test, y_train, y_test = train_test_split(features, df['category'], test_size=0.20, random_state=42)"
   ]
  },
  {
   "cell_type": "markdown",
   "metadata": {},
   "source": [
    "# MultinomialNB"
   ]
  },
  {
   "cell_type": "code",
   "execution_count": 10,
   "metadata": {
    "scrolled": false
   },
   "outputs": [
    {
     "name": "stdout",
     "output_type": "stream",
     "text": [
      "[[115   1   1   0   2   0   1   0   0   0   0   0]\n",
      " [  0  92   0   0   0   0   0   0   1   0   0   0]\n",
      " [  6   0  88   0   0   0   4   1   2   5   0   0]\n",
      " [  0   0   0  93   1   0   1   0   2   3   2   0]\n",
      " [  0   3   0   2  67   0   1   0   4   2   3   0]\n",
      " [  0  16   0   2   1  74   1   1   2   3   3   0]\n",
      " [  1   5   0   1   0   0  84   0   2   1   0   0]\n",
      " [  4   6   0   1   1   1   2  74  18   3   2   0]\n",
      " [  0   6   0   1   0   0   4   0  80   0   0   1]\n",
      " [  0   0   6   0   0   0   1   3   1  87   0   0]\n",
      " [  0   2   0   4   1   0   2   0   3   0  79   1]\n",
      " [  0   2   1   1   0   0   0   0   1   0   0  99]]\n"
     ]
    },
    {
     "data": {
      "text/plain": [
       "0.8614357262103506"
      ]
     },
     "execution_count": 10,
     "metadata": {},
     "output_type": "execute_result"
    }
   ],
   "source": [
    "from sklearn.naive_bayes import MultinomialNB\n",
    "\n",
    "mnbClf = MultinomialNB()\n",
    "mnbClf.fit(X_train, y_train)\n",
    "mnbClf_pred = mnbClf.predict(X_test)\n",
    "cm = confusion_matrix(y_test, mnbClf_pred)\n",
    "print(cm)\n",
    "accuracy_score(y_test, mnbClf_pred)"
   ]
  },
  {
   "cell_type": "markdown",
   "metadata": {},
   "source": [
    "# LogisticRegression"
   ]
  },
  {
   "cell_type": "code",
   "execution_count": 11,
   "metadata": {
    "scrolled": false
   },
   "outputs": [
    {
     "name": "stdout",
     "output_type": "stream",
     "text": [
      "[[115   1   1   0   2   0   1   0   0   0   0   0]\n",
      " [  0  92   0   0   0   0   0   0   1   0   0   0]\n",
      " [  6   0  88   0   0   0   4   1   2   5   0   0]\n",
      " [  0   0   0  93   1   0   1   0   2   3   2   0]\n",
      " [  0   3   0   2  67   0   1   0   4   2   3   0]\n",
      " [  0  16   0   2   1  74   1   1   2   3   3   0]\n",
      " [  1   5   0   1   0   0  84   0   2   1   0   0]\n",
      " [  4   6   0   1   1   1   2  74  18   3   2   0]\n",
      " [  0   6   0   1   0   0   4   0  80   0   0   1]\n",
      " [  0   0   6   0   0   0   1   3   1  87   0   0]\n",
      " [  0   2   0   4   1   0   2   0   3   0  79   1]\n",
      " [  0   2   1   1   0   0   0   0   1   0   0  99]]\n"
     ]
    },
    {
     "data": {
      "text/plain": [
       "0.8614357262103506"
      ]
     },
     "execution_count": 11,
     "metadata": {},
     "output_type": "execute_result"
    }
   ],
   "source": [
    "from sklearn.linear_model import LogisticRegression\n",
    "lrClf = LogisticRegression(fit_intercept=True, intercept_scaling=1, class_weight='balanced', solver='liblinear', max_iter=500)\n",
    "lrClf.fit(X_train, y_train)\n",
    "lrClf_pred = mnbClf.predict(X_test)\n",
    "cm = confusion_matrix(y_test, lrClf_pred)\n",
    "print(cm)\n",
    "accuracy_score(y_test, lrClf_pred)"
   ]
  },
  {
   "cell_type": "markdown",
   "metadata": {},
   "source": [
    "# RandomForestClassifier"
   ]
  },
  {
   "cell_type": "code",
   "execution_count": 12,
   "metadata": {
    "scrolled": true
   },
   "outputs": [
    {
     "name": "stdout",
     "output_type": "stream",
     "text": [
      "[[108   1   5   0   0   2   3   0   0   0   0   1]\n",
      " [  0  68   0   0   1  16   1   0   4   0   2   1]\n",
      " [ 27   0  57   3   0   0   6   0   3   9   1   0]\n",
      " [  0   0   1  61   5   0   0   0  12   8  14   1]\n",
      " [  0   1   0   1  72   3   0   0   1   1   3   0]\n",
      " [  0   8   2   3   1  80   0   1   1   0   3   4]\n",
      " [  3   7   2   2   0   2  62   0   6   4   6   0]\n",
      " [  8   3  13   4   3   9   4  37  14   5  11   1]\n",
      " [  0   9   2   3   2   1   3   0  66   4   2   0]\n",
      " [  1   1   3   0   0   1   0   0   1  90   1   0]\n",
      " [  0   0   0   4   2   2   2   2   2   1  76   1]\n",
      " [  0   2   0   0   1   7   0   2   0   0   3  89]]\n"
     ]
    },
    {
     "data": {
      "text/plain": [
       "0.7228714524207012"
      ]
     },
     "execution_count": 12,
     "metadata": {},
     "output_type": "execute_result"
    }
   ],
   "source": [
    "from sklearn.ensemble import RandomForestClassifier\n",
    "\n",
    "rfClf = RandomForestClassifier(n_estimators=200, max_depth=3, random_state=40)\n",
    "rfClf.fit(X_train, y_train)\n",
    "rfClf_pred = rfClf.predict(X_test)\n",
    "cm = confusion_matrix(y_test, rfClf_pred)\n",
    "print(cm)\n",
    "accuracy_score(y_test, rfClf_pred)"
   ]
  },
  {
   "cell_type": "markdown",
   "metadata": {},
   "source": [
    "# LinearSVC"
   ]
  },
  {
   "cell_type": "code",
   "execution_count": 13,
   "metadata": {
    "scrolled": true
   },
   "outputs": [
    {
     "name": "stdout",
     "output_type": "stream",
     "text": [
      "[[115   0   2   0   0   2   0   0   0   1   0   0]\n",
      " [  0  91   0   0   0   0   0   0   1   0   0   1]\n",
      " [  5   0  93   0   0   0   2   0   2   4   0   0]\n",
      " [  0   0   0  94   1   2   0   2   1   1   1   0]\n",
      " [  0   0   0   0  81   0   0   0   1   0   0   0]\n",
      " [  0   3   0   0   0  99   0   1   0   0   0   0]\n",
      " [  1   0   1   2   0   0  90   0   0   0   0   0]\n",
      " [  0   2   0   0   2   2   0 104   1   1   0   0]\n",
      " [  0   7   0   0   1   0   3   1  79   0   0   1]\n",
      " [  0   0   7   1   0   0   0   3   0  87   0   0]\n",
      " [  0   0   0   0   2   0   1   0   0   0  88   1]\n",
      " [  0   1   0   0   0   2   0   0   0   0   0 101]]\n"
     ]
    },
    {
     "data": {
      "text/plain": [
       "0.9365609348914858"
      ]
     },
     "execution_count": 13,
     "metadata": {},
     "output_type": "execute_result"
    }
   ],
   "source": [
    "from sklearn.svm import LinearSVC\n",
    "\n",
    "lSVC_clf = LinearSVC()\n",
    "lSVC_clf.fit(X_train, y_train)\n",
    "lSVC_clf_pred = lSVC_clf.predict(X_test)\n",
    "cm = confusion_matrix(y_test, lSVC_clf_pred)\n",
    "print(cm)\n",
    "accuracy_score(y_test, lSVC_clf_pred)"
   ]
  },
  {
   "cell_type": "markdown",
   "metadata": {},
   "source": [
    "# 5 fold Cross validation"
   ]
  },
  {
   "cell_type": "code",
   "execution_count": 14,
   "metadata": {},
   "outputs": [
    {
     "data": {
      "image/png": "[encoded data removed]",
      "text/plain": [
       "<Figure size 432x288 with 1 Axes>"
      ]
     },
     "metadata": {
      "needs_background": "light"
     },
     "output_type": "display_data"
    }
   ],
   "source": [
    "from sklearn.model_selection import cross_val_score\n",
    "\n",
    "models = [\n",
    "    RandomForestClassifier(n_estimators=200, max_depth=3, random_state=40),\n",
    "    LinearSVC(),\n",
    "    MultinomialNB(),\n",
    "    LogisticRegression(random_state=0),\n",
    "]\n",
    "CV = 5\n",
    "cv_df = pd.DataFrame(index=range(CV * len(models)))\n",
    "entries = []\n",
    "for model in models:\n",
    "  model_name = model.__class__.__name__\n",
    "  accuracies = cross_val_score(model, features, labels, scoring='accuracy', cv=CV)\n",
    "  for fold_idx, accuracy in enumerate(accuracies):\n",
    "    entries.append((model_name, fold_idx, accuracy))\n",
    "cv_df = pd.DataFrame(entries, columns=['model_name', 'fold_idx', 'accuracy'])\n",
    "import seaborn as sns\n",
    "sns.boxplot(x='model_name', y='accuracy', data=cv_df)\n",
    "sns.stripplot(x='model_name', y='accuracy', data=cv_df, \n",
    "              size=8, jitter=True, edgecolor=\"gray\", linewidth=2)\n",
    "plt.show()"
   ]
  },
  {
   "cell_type": "markdown",
   "metadata": {},
   "source": [
    "# Mean accuracy"
   ]
  },
  {
   "cell_type": "code",
   "execution_count": 16,
   "metadata": {},
   "outputs": [
    {
     "data": {
      "text/plain": [
       "model_name\n",
       "LinearSVC                 0.909652\n",
       "LogisticRegression        0.876918\n",
       "MultinomialNB             0.834831\n",
       "RandomForestClassifier    0.713088\n",
       "Name: accuracy, dtype: float64"
      ]
     },
     "execution_count": 16,
     "metadata": {},
     "output_type": "execute_result"
    }
   ],
   "source": [
    "cv_df.groupby('model_name').accuracy.mean()"
   ]
  }
 ],
 "metadata": {
  "kernelspec": {
   "display_name": "Python 3 (ipykernel)",
   "language": "python",
   "name": "python3"
  },
  "language_info": {
   "codemirror_mode": {
    "name": "ipython",
    "version": 3
   },
   "file_extension": ".py",
   "mimetype": "text/x-python",
   "name": "python",
   "nbconvert_exporter": "python",
   "pygments_lexer": "ipython3",
   "version": "3.9.6"
  }
 },
 "nbformat": 4,
 "nbformat_minor": 2
}
